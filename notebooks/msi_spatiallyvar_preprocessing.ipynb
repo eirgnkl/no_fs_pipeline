{
 "cells": [
  {
   "cell_type": "code",
   "execution_count": 1,
   "metadata": {},
   "outputs": [
    {
     "name": "stderr",
     "output_type": "stream",
     "text": [
      "/ictstr01/home/icb/eirini.giannakoulia/tools/apps/mamba/envs/mini/lib/python3.12/site-packages/anndata/utils.py:429: FutureWarning: Importing read_csv from `anndata` is deprecated. Import anndata.io.read_csv instead.\n",
      "  warnings.warn(msg, FutureWarning)\n",
      "/ictstr01/home/icb/eirini.giannakoulia/tools/apps/mamba/envs/mini/lib/python3.12/site-packages/anndata/utils.py:429: FutureWarning: Importing read_excel from `anndata` is deprecated. Import anndata.io.read_excel instead.\n",
      "  warnings.warn(msg, FutureWarning)\n",
      "/ictstr01/home/icb/eirini.giannakoulia/tools/apps/mamba/envs/mini/lib/python3.12/site-packages/anndata/utils.py:429: FutureWarning: Importing read_hdf from `anndata` is deprecated. Import anndata.io.read_hdf instead.\n",
      "  warnings.warn(msg, FutureWarning)\n",
      "/ictstr01/home/icb/eirini.giannakoulia/tools/apps/mamba/envs/mini/lib/python3.12/site-packages/anndata/utils.py:429: FutureWarning: Importing read_loom from `anndata` is deprecated. Import anndata.io.read_loom instead.\n",
      "  warnings.warn(msg, FutureWarning)\n",
      "/ictstr01/home/icb/eirini.giannakoulia/tools/apps/mamba/envs/mini/lib/python3.12/site-packages/anndata/utils.py:429: FutureWarning: Importing read_mtx from `anndata` is deprecated. Import anndata.io.read_mtx instead.\n",
      "  warnings.warn(msg, FutureWarning)\n",
      "/ictstr01/home/icb/eirini.giannakoulia/tools/apps/mamba/envs/mini/lib/python3.12/site-packages/anndata/utils.py:429: FutureWarning: Importing read_text from `anndata` is deprecated. Import anndata.io.read_text instead.\n",
      "  warnings.warn(msg, FutureWarning)\n",
      "/ictstr01/home/icb/eirini.giannakoulia/tools/apps/mamba/envs/mini/lib/python3.12/site-packages/anndata/utils.py:429: FutureWarning: Importing read_umi_tools from `anndata` is deprecated. Import anndata.io.read_umi_tools instead.\n",
      "  warnings.warn(msg, FutureWarning)\n",
      "/ictstr01/home/icb/eirini.giannakoulia/tools/apps/mamba/envs/mini/lib/python3.12/site-packages/dask/dataframe/__init__.py:31: FutureWarning: The legacy Dask DataFrame implementation is deprecated and will be removed in a future version. Set the configuration option `dataframe.query-planning` to `True` or None to enable the new Dask Dataframe implementation and silence this warning.\n",
      "  warnings.warn(\n",
      "/ictstr01/home/icb/eirini.giannakoulia/tools/apps/mamba/envs/mini/lib/python3.12/site-packages/anndata/utils.py:429: FutureWarning: Importing read_text from `anndata` is deprecated. Import anndata.io.read_text instead.\n",
      "  warnings.warn(msg, FutureWarning)\n"
     ]
    }
   ],
   "source": [
    "import scanpy as sc\n",
    "import numpy as np\n",
    "import pandas as pd\n",
    "from tqdm import tqdm\n",
    "import seaborn as sns\n",
    "import squidpy as sq\n",
    "from sklearn.preprocessing import StandardScaler\n",
    "# from sklearn import model_selection\n",
    "from sklearn.metrics import r2_score\n",
    "import matplotlib.pyplot as plt\n",
    "# from scipy.spatial import cKDTree\n",
    "# import nichepca as npc\n",
    "# from xgboost import XGBRegressor\n",
    "# import gensim\n",
    "# from gensim.models import word2vec\n",
    "# import wandb\n",
    "# from utils import find_closest_points\n",
    "\n"
   ]
  },
  {
   "cell_type": "code",
   "execution_count": 2,
   "metadata": {},
   "outputs": [],
   "source": [
    "#Set path to data\n",
    "# path_msi = \"/lustre/groups/ml01/workspace/anastasia.litinetskaya/code/vitatrack/datasets/V11L12-038_A1.MSI_MOSCOT_paired_hvg.h5ad\"\n",
    "path_msi = \"/lustre/groups/ml01/workspace/anastasia.litinetskaya/code/vitatrack/datasets/MSI_concat_neurotransmitters.h5ad\"\n",
    "path_rna = \"/lustre/groups/ml01/workspace/anastasia.litinetskaya/code/vitatrack/datasets/V11L12-038_A1.RNA_MOSCOT_paired_hvg.h5ad\"\n",
    "\n"
   ]
  },
  {
   "cell_type": "code",
   "execution_count": 3,
   "metadata": {},
   "outputs": [
    {
     "data": {
      "text/plain": [
       "AnnData object with n_obs × n_vars = 2681 × 500\n",
       "    obs: 'technology', 'clusters', 'split', 'og_index'\n",
       "    var: 'highly_variable', 'means', 'dispersions', 'dispersions_norm'\n",
       "    uns: 'clusters', 'clusters_colors', 'hvg', 'log1p', 'moranI', 'neighbors', 'pca', 'spatial_neighbors', 'umap'\n",
       "    obsm: 'X_pca', 'X_umap', 'raw_counts', 'spatial', 'spatial_warp'\n",
       "    varm: 'PCs'\n",
       "    obsp: 'connectivities', 'distances', 'spatial_connectivities', 'spatial_distances'"
      ]
     },
     "execution_count": 3,
     "metadata": {},
     "output_type": "execute_result"
    }
   ],
   "source": [
    "sc.read_h5ad(path_msi)"
   ]
  },
  {
   "cell_type": "code",
   "execution_count": 4,
   "metadata": {},
   "outputs": [],
   "source": [
    "adata_msi_full = sc.read_h5ad(path_msi)\n",
    "adata_rna_full = sc.read_h5ad(path_rna)"
   ]
  },
  {
   "cell_type": "markdown",
   "metadata": {},
   "source": [
    "### Prepare MSI data"
   ]
  },
  {
   "cell_type": "code",
   "execution_count": 5,
   "metadata": {},
   "outputs": [
    {
     "data": {
      "text/plain": [
       "AnnData object with n_obs × n_vars = 2681 × 500\n",
       "    obs: 'technology', 'clusters', 'split', 'og_index'\n",
       "    var: 'highly_variable', 'means', 'dispersions', 'dispersions_norm'\n",
       "    uns: 'clusters', 'clusters_colors', 'hvg', 'log1p', 'moranI', 'neighbors', 'pca', 'spatial_neighbors', 'umap'\n",
       "    obsm: 'X_pca', 'X_umap', 'raw_counts', 'spatial', 'spatial_warp'\n",
       "    varm: 'PCs'\n",
       "    obsp: 'connectivities', 'distances', 'spatial_connectivities', 'spatial_distances'"
      ]
     },
     "execution_count": 5,
     "metadata": {},
     "output_type": "execute_result"
    }
   ],
   "source": [
    "adata_msi_full"
   ]
  },
  {
   "cell_type": "markdown",
   "metadata": {},
   "source": [
    "Here you can subset metabolites for noise  \n",
    "e.g.:  \n",
    "Remove m/z below FMP10, because most likely this is noise:  \n",
    "```python\n",
    "adata_msi_full.var_names  \n",
    "adata_msi = adata_msi[:, adata_msi.var_names.astype(float) > 288.15].copy()"
   ]
  },
  {
   "cell_type": "code",
   "execution_count": 6,
   "metadata": {},
   "outputs": [],
   "source": [
    "adata_msi = adata_msi_full.copy()"
   ]
  },
  {
   "cell_type": "markdown",
   "metadata": {},
   "source": [
    "Quality control"
   ]
  },
  {
   "cell_type": "code",
   "execution_count": 7,
   "metadata": {},
   "outputs": [],
   "source": [
    "sc.pp.calculate_qc_metrics(adata_msi, inplace=True)"
   ]
  },
  {
   "cell_type": "code",
   "execution_count": 8,
   "metadata": {},
   "outputs": [
    {
     "data": {
      "text/plain": [
       "<Axes: xlabel='total_counts', ylabel='Count'>"
      ]
     },
     "execution_count": 8,
     "metadata": {},
     "output_type": "execute_result"
    },
    {
     "data": {
      "image/png": "[encoded data removed]",
      "text/plain": [
       "<Figure size 640x480 with 1 Axes>"
      ]
     },
     "metadata": {},
     "output_type": "display_data"
    }
   ],
   "source": [
    "sns.histplot(adata_msi.obs.total_counts) #This sums all the metabolites m/z ratios for each cell"
   ]
  },
  {
   "cell_type": "code",
   "execution_count": 9,
   "metadata": {},
   "outputs": [
    {
     "data": {
      "text/html": [
       "<div>\n",
       "<style scoped>\n",
       "    .dataframe tbody tr th:only-of-type {\n",
       "        vertical-align: middle;\n",
       "    }\n",
       "\n",
       "    .dataframe tbody tr th {\n",
       "        vertical-align: top;\n",
       "    }\n",
       "\n",
       "    .dataframe thead th {\n",
       "        text-align: right;\n",
       "    }\n",
       "</style>\n",
       "<table border=\"1\" class=\"dataframe\">\n",
       "  <thead>\n",
       "    <tr style=\"text-align: right;\">\n",
       "      <th></th>\n",
       "      <th>highly_variable</th>\n",
       "      <th>means</th>\n",
       "      <th>dispersions</th>\n",
       "      <th>dispersions_norm</th>\n",
       "      <th>n_cells_by_counts</th>\n",
       "      <th>mean_counts</th>\n",
       "      <th>log1p_mean_counts</th>\n",
       "      <th>pct_dropout_by_counts</th>\n",
       "      <th>total_counts</th>\n",
       "      <th>log1p_total_counts</th>\n",
       "    </tr>\n",
       "  </thead>\n",
       "  <tbody>\n",
       "    <tr>\n",
       "      <th>137.023795</th>\n",
       "      <td>True</td>\n",
       "      <td>16.457432</td>\n",
       "      <td>16.244787</td>\n",
       "      <td>1.111899</td>\n",
       "      <td>2681</td>\n",
       "      <td>16.832302</td>\n",
       "      <td>2.881012</td>\n",
       "      <td>0.000000</td>\n",
       "      <td>45127.400895</td>\n",
       "      <td>10.717267</td>\n",
       "    </tr>\n",
       "    <tr>\n",
       "      <th>154.026815</th>\n",
       "      <td>True</td>\n",
       "      <td>12.282051</td>\n",
       "      <td>12.890668</td>\n",
       "      <td>1.498388</td>\n",
       "      <td>2681</td>\n",
       "      <td>12.553079</td>\n",
       "      <td>2.606614</td>\n",
       "      <td>0.000000</td>\n",
       "      <td>33654.804196</td>\n",
       "      <td>10.423941</td>\n",
       "    </tr>\n",
       "    <tr>\n",
       "      <th>162.11293999999998</th>\n",
       "      <td>True</td>\n",
       "      <td>13.661283</td>\n",
       "      <td>13.783248</td>\n",
       "      <td>0.685038</td>\n",
       "      <td>2681</td>\n",
       "      <td>14.171650</td>\n",
       "      <td>2.719429</td>\n",
       "      <td>0.000000</td>\n",
       "      <td>37994.192488</td>\n",
       "      <td>10.545215</td>\n",
       "    </tr>\n",
       "    <tr>\n",
       "      <th>169.07619</th>\n",
       "      <td>True</td>\n",
       "      <td>13.470905</td>\n",
       "      <td>15.882873</td>\n",
       "      <td>5.257481</td>\n",
       "      <td>2681</td>\n",
       "      <td>13.721671</td>\n",
       "      <td>2.689321</td>\n",
       "      <td>0.000000</td>\n",
       "      <td>36787.800027</td>\n",
       "      <td>10.512949</td>\n",
       "    </tr>\n",
       "    <tr>\n",
       "      <th>169.076575</th>\n",
       "      <td>True</td>\n",
       "      <td>13.558031</td>\n",
       "      <td>15.862571</td>\n",
       "      <td>5.213268</td>\n",
       "      <td>2681</td>\n",
       "      <td>13.783150</td>\n",
       "      <td>2.693488</td>\n",
       "      <td>0.000000</td>\n",
       "      <td>36952.624199</td>\n",
       "      <td>10.517419</td>\n",
       "    </tr>\n",
       "    <tr>\n",
       "      <th>...</th>\n",
       "      <td>...</td>\n",
       "      <td>...</td>\n",
       "      <td>...</td>\n",
       "      <td>...</td>\n",
       "      <td>...</td>\n",
       "      <td>...</td>\n",
       "      <td>...</td>\n",
       "      <td>...</td>\n",
       "      <td>...</td>\n",
       "      <td>...</td>\n",
       "    </tr>\n",
       "    <tr>\n",
       "      <th>981.582135</th>\n",
       "      <td>True</td>\n",
       "      <td>8.348629</td>\n",
       "      <td>11.216965</td>\n",
       "      <td>0.650746</td>\n",
       "      <td>325</td>\n",
       "      <td>1.302877</td>\n",
       "      <td>0.834159</td>\n",
       "      <td>87.877658</td>\n",
       "      <td>3493.014565</td>\n",
       "      <td>8.158807</td>\n",
       "    </tr>\n",
       "    <tr>\n",
       "      <th>982.519885</th>\n",
       "      <td>True</td>\n",
       "      <td>8.086034</td>\n",
       "      <td>11.228839</td>\n",
       "      <td>0.684927</td>\n",
       "      <td>307</td>\n",
       "      <td>1.200151</td>\n",
       "      <td>0.788526</td>\n",
       "      <td>88.549049</td>\n",
       "      <td>3217.605359</td>\n",
       "      <td>8.076703</td>\n",
       "    </tr>\n",
       "    <tr>\n",
       "      <th>983.879985</th>\n",
       "      <td>True</td>\n",
       "      <td>8.370474</td>\n",
       "      <td>11.189914</td>\n",
       "      <td>0.572880</td>\n",
       "      <td>332</td>\n",
       "      <td>1.320715</td>\n",
       "      <td>0.841875</td>\n",
       "      <td>87.616561</td>\n",
       "      <td>3540.836599</td>\n",
       "      <td>8.172401</td>\n",
       "    </tr>\n",
       "    <tr>\n",
       "      <th>985.53971</th>\n",
       "      <td>True</td>\n",
       "      <td>7.986569</td>\n",
       "      <td>11.179927</td>\n",
       "      <td>0.625368</td>\n",
       "      <td>289</td>\n",
       "      <td>1.124553</td>\n",
       "      <td>0.753561</td>\n",
       "      <td>89.220440</td>\n",
       "      <td>3014.926453</td>\n",
       "      <td>8.011662</td>\n",
       "    </tr>\n",
       "    <tr>\n",
       "      <th>989.5183649999999</th>\n",
       "      <td>True</td>\n",
       "      <td>8.016177</td>\n",
       "      <td>11.149950</td>\n",
       "      <td>0.538309</td>\n",
       "      <td>303</td>\n",
       "      <td>1.170924</td>\n",
       "      <td>0.775153</td>\n",
       "      <td>88.698247</td>\n",
       "      <td>3139.247887</td>\n",
       "      <td>8.052057</td>\n",
       "    </tr>\n",
       "  </tbody>\n",
       "</table>\n",
       "<p>500 rows × 10 columns</p>\n",
       "</div>"
      ],
      "text/plain": [
       "                    highly_variable      means  dispersions  dispersions_norm  \\\n",
       "137.023795                     True  16.457432    16.244787          1.111899   \n",
       "154.026815                     True  12.282051    12.890668          1.498388   \n",
       "162.11293999999998             True  13.661283    13.783248          0.685038   \n",
       "169.07619                      True  13.470905    15.882873          5.257481   \n",
       "169.076575                     True  13.558031    15.862571          5.213268   \n",
       "...                             ...        ...          ...               ...   \n",
       "981.582135                     True   8.348629    11.216965          0.650746   \n",
       "982.519885                     True   8.086034    11.228839          0.684927   \n",
       "983.879985                     True   8.370474    11.189914          0.572880   \n",
       "985.53971                      True   7.986569    11.179927          0.625368   \n",
       "989.5183649999999              True   8.016177    11.149950          0.538309   \n",
       "\n",
       "                    n_cells_by_counts  mean_counts  log1p_mean_counts  \\\n",
       "137.023795                       2681    16.832302           2.881012   \n",
       "154.026815                       2681    12.553079           2.606614   \n",
       "162.11293999999998               2681    14.171650           2.719429   \n",
       "169.07619                        2681    13.721671           2.689321   \n",
       "169.076575                       2681    13.783150           2.693488   \n",
       "...                               ...          ...                ...   \n",
       "981.582135                        325     1.302877           0.834159   \n",
       "982.519885                        307     1.200151           0.788526   \n",
       "983.879985                        332     1.320715           0.841875   \n",
       "985.53971                         289     1.124553           0.753561   \n",
       "989.5183649999999                 303     1.170924           0.775153   \n",
       "\n",
       "                    pct_dropout_by_counts  total_counts  log1p_total_counts  \n",
       "137.023795                       0.000000  45127.400895           10.717267  \n",
       "154.026815                       0.000000  33654.804196           10.423941  \n",
       "162.11293999999998               0.000000  37994.192488           10.545215  \n",
       "169.07619                        0.000000  36787.800027           10.512949  \n",
       "169.076575                       0.000000  36952.624199           10.517419  \n",
       "...                                   ...           ...                 ...  \n",
       "981.582135                      87.877658   3493.014565            8.158807  \n",
       "982.519885                      88.549049   3217.605359            8.076703  \n",
       "983.879985                      87.616561   3540.836599            8.172401  \n",
       "985.53971                       89.220440   3014.926453            8.011662  \n",
       "989.5183649999999               88.698247   3139.247887            8.052057  \n",
       "\n",
       "[500 rows x 10 columns]"
      ]
     },
     "execution_count": 9,
     "metadata": {},
     "output_type": "execute_result"
    }
   ],
   "source": [
    "adata_msi.var"
   ]
  },
  {
   "cell_type": "code",
   "execution_count": 10,
   "metadata": {},
   "outputs": [
    {
     "data": {
      "text/plain": [
       "<Axes: xlabel='n_cells_by_counts', ylabel='Count'>"
      ]
     },
     "execution_count": 10,
     "metadata": {},
     "output_type": "execute_result"
    },
    {
     "data": {
      "image/png": "[encoded data removed]",
      "text/plain": [
       "<Figure size 640x480 with 1 Axes>"
      ]
     },
     "metadata": {},
     "output_type": "display_data"
    }
   ],
   "source": [
    "sns.histplot(adata_msi.var.n_cells_by_counts) #This sums all the cells for each metabolite m/z ratio\n",
    "# we notice that o"
   ]
  },
  {
   "cell_type": "code",
   "execution_count": 11,
   "metadata": {},
   "outputs": [
    {
     "data": {
      "text/plain": [
       "count     500.00000\n",
       "mean     1689.78800\n",
       "std      1009.05623\n",
       "min        36.00000\n",
       "25%       634.50000\n",
       "50%      1996.50000\n",
       "75%      2678.00000\n",
       "max      2681.00000\n",
       "Name: n_cells_by_counts, dtype: float64"
      ]
     },
     "execution_count": 11,
     "metadata": {},
     "output_type": "execute_result"
    }
   ],
   "source": [
    "adata_msi.var.n_cells_by_counts.describe()"
   ]
  },
  {
   "cell_type": "markdown",
   "metadata": {},
   "source": [
    "### Let's identify most spatialy variable metabolites"
   ]
  },
  {
   "cell_type": "code",
   "execution_count": 12,
   "metadata": {},
   "outputs": [
    {
     "data": {
      "text/plain": [
       "AnnData object with n_obs × n_vars = 2681 × 500\n",
       "    obs: 'technology', 'clusters', 'split', 'og_index', 'n_genes_by_counts', 'log1p_n_genes_by_counts', 'total_counts', 'log1p_total_counts', 'pct_counts_in_top_50_genes', 'pct_counts_in_top_100_genes', 'pct_counts_in_top_200_genes', 'pct_counts_in_top_500_genes'\n",
       "    var: 'highly_variable', 'means', 'dispersions', 'dispersions_norm', 'n_cells_by_counts', 'mean_counts', 'log1p_mean_counts', 'pct_dropout_by_counts', 'total_counts', 'log1p_total_counts'\n",
       "    uns: 'clusters', 'clusters_colors', 'hvg', 'log1p', 'moranI', 'neighbors', 'pca', 'spatial_neighbors', 'umap'\n",
       "    obsm: 'X_pca', 'X_umap', 'raw_counts', 'spatial', 'spatial_warp'\n",
       "    varm: 'PCs'\n",
       "    obsp: 'connectivities', 'distances', 'spatial_connectivities', 'spatial_distances'"
      ]
     },
     "execution_count": 12,
     "metadata": {},
     "output_type": "execute_result"
    }
   ],
   "source": [
    "adata_msi"
   ]
  },
  {
   "cell_type": "markdown",
   "metadata": {},
   "source": [
    "MoranI already present, but just for completeness let's go for the procedure from beginning\n",
    "\n"
   ]
  },
  {
   "cell_type": "code",
   "execution_count": 13,
   "metadata": {},
   "outputs": [],
   "source": [
    "# Identify top 5 most spatially variable metabolomes using Moran's I\n",
    "sq.gr.spatial_neighbors(adata_msi, spatial_key='spatial_warp')\n",
    "sq.gr.spatial_autocorr(adata_msi)\n"
   ]
  },
  {
   "cell_type": "code",
   "execution_count": 14,
   "metadata": {},
   "outputs": [
    {
     "data": {
      "text/plain": [
       "AnnData object with n_obs × n_vars = 2681 × 500\n",
       "    obs: 'technology', 'clusters', 'split', 'og_index', 'n_genes_by_counts', 'log1p_n_genes_by_counts', 'total_counts', 'log1p_total_counts', 'pct_counts_in_top_50_genes', 'pct_counts_in_top_100_genes', 'pct_counts_in_top_200_genes', 'pct_counts_in_top_500_genes'\n",
       "    var: 'highly_variable', 'means', 'dispersions', 'dispersions_norm', 'n_cells_by_counts', 'mean_counts', 'log1p_mean_counts', 'pct_dropout_by_counts', 'total_counts', 'log1p_total_counts'\n",
       "    uns: 'clusters', 'clusters_colors', 'hvg', 'log1p', 'moranI', 'neighbors', 'pca', 'spatial_neighbors', 'umap'\n",
       "    obsm: 'X_pca', 'X_umap', 'raw_counts', 'spatial', 'spatial_warp'\n",
       "    varm: 'PCs'\n",
       "    obsp: 'connectivities', 'distances', 'spatial_connectivities', 'spatial_distances'"
      ]
     },
     "execution_count": 14,
     "metadata": {},
     "output_type": "execute_result"
    }
   ],
   "source": [
    "adata_msi"
   ]
  },
  {
   "cell_type": "markdown",
   "metadata": {},
   "source": [
    "Double sorting, first with index then for bh correction\n"
   ]
  },
  {
   "cell_type": "code",
   "execution_count": 15,
   "metadata": {},
   "outputs": [],
   "source": [
    "top_20_spat = adata_msi.uns[\"moranI\"].loc[adata_msi.uns[\"moranI\"].pval_norm_fdr_bh < 0.05].sort_values(by=[\"I\", \"pval_norm_fdr_bh\"], ascending=[False, True]).index[:10]\n"
   ]
  },
  {
   "cell_type": "code",
   "execution_count": 16,
   "metadata": {},
   "outputs": [],
   "source": [
    "mz_values = adata_msi.var_names.astype(float).to_numpy()\n",
    "mz_values\n",
    "dhb_peaks_positive = np.array([137.0238, 155.0341, 177.0173, 193.0351, 273.0454])\n",
    "found_peaks = set(mz_values[np.abs(mz_values[:, None] - dhb_peaks_positive[None, :]).min(axis=1) <= 0.1])\n",
    "found_peaks_str = set(map(str, found_peaks))\n"
   ]
  },
  {
   "cell_type": "code",
   "execution_count": 17,
   "metadata": {},
   "outputs": [
    {
     "data": {
      "text/plain": [
       "{np.float64(137.023795),\n",
       " np.float64(177.01202),\n",
       " np.float64(273.03447),\n",
       " np.float64(273.03932)}"
      ]
     },
     "execution_count": 17,
     "metadata": {},
     "output_type": "execute_result"
    }
   ],
   "source": [
    "found_peaks"
   ]
  },
  {
   "cell_type": "code",
   "execution_count": 18,
   "metadata": {},
   "outputs": [
    {
     "data": {
      "text/plain": [
       "['203.05299000000002',\n",
       " '162.11293999999998',\n",
       " '214.01164',\n",
       " '280.092375',\n",
       " '845.51016',\n",
       " '251.9674',\n",
       " '353.023935',\n",
       " '251.96654999999998',\n",
       " '617.9799350000001',\n",
       " '297.070615']"
      ]
     },
     "execution_count": 18,
     "metadata": {},
     "output_type": "execute_result"
    }
   ],
   "source": [
    "top_20_spat_filtered = [mz for mz in top_20_spat if mz not in found_peaks_str]\n",
    "top_20_spat_filtered"
   ]
  },
  {
   "cell_type": "code",
   "execution_count": null,
   "metadata": {},
   "outputs": [],
   "source": [
    "['203.05299000000002',\n",
    " '162.11293999999998',\n",
    " '214.01164',\n",
    " '280.092375',\n",
    " '845.51016',\n",
    " '251.9674',\n",
    " '353.023935',\n",
    " '251.96654999999998',\n",
    " '617.9799350000001',\n",
    " '297.070615']"
   ]
  },
  {
   "cell_type": "code",
   "execution_count": 19,
   "metadata": {},
   "outputs": [],
   "source": [
    "top_5_spat_metabolites = top_20_spat_filtered[:5]\n",
    "adata_msi_top5_spat = adata_msi[:, adata_msi.var_names.isin(top_5_spat_metabolites)].copy()\n",
    "\n"
   ]
  },
  {
   "cell_type": "code",
   "execution_count": 56,
   "metadata": {},
   "outputs": [
    {
     "data": {
      "text/plain": [
       "AnnData object with n_obs × n_vars = 2681 × 5\n",
       "    obs: 'technology', 'clusters', 'split', 'og_index', 'n_genes_by_counts', 'log1p_n_genes_by_counts', 'total_counts', 'log1p_total_counts', 'pct_counts_in_top_50_genes', 'pct_counts_in_top_100_genes', 'pct_counts_in_top_200_genes', 'pct_counts_in_top_500_genes'\n",
       "    var: 'highly_variable', 'means', 'dispersions', 'dispersions_norm', 'n_cells_by_counts', 'mean_counts', 'log1p_mean_counts', 'pct_dropout_by_counts', 'total_counts', 'log1p_total_counts'\n",
       "    uns: 'clusters', 'clusters_colors', 'hvg', 'log1p', 'moranI', 'neighbors', 'pca', 'spatial_neighbors', 'umap'\n",
       "    obsm: 'X_pca', 'X_umap', 'raw_counts', 'spatial', 'spatial_warp'\n",
       "    varm: 'PCs'\n",
       "    obsp: 'connectivities', 'distances', 'spatial_connectivities', 'spatial_distances'"
      ]
     },
     "execution_count": 56,
     "metadata": {},
     "output_type": "execute_result"
    }
   ],
   "source": [
    "adata_msi_top5_spat"
   ]
  },
  {
   "cell_type": "code",
   "execution_count": null,
   "metadata": {},
   "outputs": [],
   "source": [
    "# adata_msi_top10_spat.write(\"/lustre/groups/ml01/workspace/eirini.giannakoulia/msi_ds/V11L12-038_A1.MSI_MOSCOT_paired_hvg_top10spatvar.h5ad\")\n",
    "# adata_msi_top20_spat.write(\"/lustre/groups/ml01/workspace/eirini.giannakoulia/msi_ds/V11L12-038_A1.MSI_MOSCOT_paired_hvg_top20spatvar.h5ad\")\n",
    "adata_msi_top5_spat.write(\"/lustre/groups/ml01/workspace/eirini.giannakoulia/msi_ds/MSI_concat_neuro_top5spatvar.h5ad\")"
   ]
  },
  {
   "cell_type": "code",
   "execution_count": null,
   "metadata": {},
   "outputs": [],
   "source": []
  }
 ],
 "metadata": {
  "kernelspec": {
   "display_name": "Python (minimal)",
   "language": "python",
   "name": "mini"
  }
 },
 "nbformat": 4,
 "nbformat_minor": 2
}
