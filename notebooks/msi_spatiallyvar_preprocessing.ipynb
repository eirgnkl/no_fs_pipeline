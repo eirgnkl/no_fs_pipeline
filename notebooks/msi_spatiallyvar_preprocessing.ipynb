{
 "cells": [
  {
   "cell_type": "code",
   "execution_count": 1,
   "metadata": {},
   "outputs": [
    {
     "name": "stderr",
     "output_type": "stream",
     "text": [
      "/ictstr01/home/icb/eirini.giannakoulia/tools/apps/mamba/envs/mini/lib/python3.12/site-packages/anndata/utils.py:429: FutureWarning: Importing read_csv from `anndata` is deprecated. Import anndata.io.read_csv instead.\n",
      "  warnings.warn(msg, FutureWarning)\n",
      "/ictstr01/home/icb/eirini.giannakoulia/tools/apps/mamba/envs/mini/lib/python3.12/site-packages/anndata/utils.py:429: FutureWarning: Importing read_excel from `anndata` is deprecated. Import anndata.io.read_excel instead.\n",
      "  warnings.warn(msg, FutureWarning)\n",
      "/ictstr01/home/icb/eirini.giannakoulia/tools/apps/mamba/envs/mini/lib/python3.12/site-packages/anndata/utils.py:429: FutureWarning: Importing read_hdf from `anndata` is deprecated. Import anndata.io.read_hdf instead.\n",
      "  warnings.warn(msg, FutureWarning)\n",
      "/ictstr01/home/icb/eirini.giannakoulia/tools/apps/mamba/envs/mini/lib/python3.12/site-packages/anndata/utils.py:429: FutureWarning: Importing read_loom from `anndata` is deprecated. Import anndata.io.read_loom instead.\n",
      "  warnings.warn(msg, FutureWarning)\n",
      "/ictstr01/home/icb/eirini.giannakoulia/tools/apps/mamba/envs/mini/lib/python3.12/site-packages/anndata/utils.py:429: FutureWarning: Importing read_mtx from `anndata` is deprecated. Import anndata.io.read_mtx instead.\n",
      "  warnings.warn(msg, FutureWarning)\n",
      "/ictstr01/home/icb/eirini.giannakoulia/tools/apps/mamba/envs/mini/lib/python3.12/site-packages/anndata/utils.py:429: FutureWarning: Importing read_text from `anndata` is deprecated. Import anndata.io.read_text instead.\n",
      "  warnings.warn(msg, FutureWarning)\n",
      "/ictstr01/home/icb/eirini.giannakoulia/tools/apps/mamba/envs/mini/lib/python3.12/site-packages/anndata/utils.py:429: FutureWarning: Importing read_umi_tools from `anndata` is deprecated. Import anndata.io.read_umi_tools instead.\n",
      "  warnings.warn(msg, FutureWarning)\n",
      "/ictstr01/home/icb/eirini.giannakoulia/tools/apps/mamba/envs/mini/lib/python3.12/site-packages/dask/dataframe/__init__.py:31: FutureWarning: The legacy Dask DataFrame implementation is deprecated and will be removed in a future version. Set the configuration option `dataframe.query-planning` to `True` or None to enable the new Dask Dataframe implementation and silence this warning.\n",
      "  warnings.warn(\n",
      "/ictstr01/home/icb/eirini.giannakoulia/tools/apps/mamba/envs/mini/lib/python3.12/site-packages/anndata/utils.py:429: FutureWarning: Importing read_text from `anndata` is deprecated. Import anndata.io.read_text instead.\n",
      "  warnings.warn(msg, FutureWarning)\n"
     ]
    }
   ],
   "source": [
    "import scanpy as sc\n",
    "import numpy as np\n",
    "import pandas as pd\n",
    "from tqdm import tqdm\n",
    "import seaborn as sns\n",
    "import squidpy as sq\n",
    "from sklearn.preprocessing import StandardScaler\n",
    "# from sklearn import model_selection\n",
    "from sklearn.metrics import r2_score\n",
    "import matplotlib.pyplot as plt\n",
    "import os\n"
   ]
  },
  {
   "cell_type": "code",
   "execution_count": 2,
   "metadata": {},
   "outputs": [],
   "source": [
    "#Set path to data\n",
    "path_msi = \"/lustre/groups/ml01/workspace/anastasia.litinetskaya/code/vitatrack/datasets/MSI_concat_neurotransmitters.h5ad\"\n",
    "# path_rna = \"/lustre/groups/ml01/workspace/anastasia.litinetskaya/code/vitatrack/datasets/RNA_concat_lipids.h5ad\"\n"
   ]
  },
  {
   "cell_type": "code",
   "execution_count": 3,
   "metadata": {},
   "outputs": [],
   "source": [
    "# Set task/dataset name and path to store\n",
    "task_name  = \"MSI_concat_neurotransmitters\"\n",
    "store_dir = \"/lustre/groups/ml01/workspace/eirini.giannakoulia/hand_prep/\"\n",
    "# name of final data will be a combination of task_name and topN abundant metabs"
   ]
  },
  {
   "cell_type": "code",
   "execution_count": 4,
   "metadata": {},
   "outputs": [
    {
     "name": "stderr",
     "output_type": "stream",
     "text": [
      "/ictstr01/home/icb/eirini.giannakoulia/tools/apps/mamba/envs/mini/lib/python3.12/site-packages/anndata/_core/anndata.py:1756: UserWarning: Observation names are not unique. To make them unique, call `.obs_names_make_unique`.\n",
      "  utils.warn_names_duplicates(\"obs\")\n"
     ]
    },
    {
     "data": {
      "text/plain": [
       "AnnData object with n_obs × n_vars = 5443 × 1538\n",
       "    obs: 'technology', 'clusters', 'random_split', 'half_split', 'slide', 'msi_concat_clusters'\n",
       "    var: 'highly_variable', 'means', 'dispersions', 'dispersions_norm', 'highly_variable_nbatches', 'highly_variable_intersection', 'spatialy_highly_variable', 'msi_highly_variable'\n",
       "    uns: 'hvg', 'msi_concat_clusters', 'neighbors', 'pca', 'slide_colors', 'umap'\n",
       "    obsm: 'X_pca', 'X_umap', 'spatial', 'spatial_warp'\n",
       "    varm: 'PCs'\n",
       "    layers: 'counts'\n",
       "    obsp: 'connectivities', 'distances'"
      ]
     },
     "execution_count": 4,
     "metadata": {},
     "output_type": "execute_result"
    }
   ],
   "source": [
    "sc.read_h5ad(path_msi)"
   ]
  },
  {
   "cell_type": "code",
   "execution_count": 5,
   "metadata": {},
   "outputs": [
    {
     "name": "stderr",
     "output_type": "stream",
     "text": [
      "/ictstr01/home/icb/eirini.giannakoulia/tools/apps/mamba/envs/mini/lib/python3.12/site-packages/anndata/_core/anndata.py:1756: UserWarning: Observation names are not unique. To make them unique, call `.obs_names_make_unique`.\n",
      "  utils.warn_names_duplicates(\"obs\")\n"
     ]
    }
   ],
   "source": [
    "adata_msi_full = sc.read_h5ad(path_msi)\n",
    "# adata_rna_full = sc.read_h5ad(path_rna)"
   ]
  },
  {
   "cell_type": "markdown",
   "metadata": {},
   "source": [
    "### Prepare MSI data"
   ]
  },
  {
   "cell_type": "code",
   "execution_count": 6,
   "metadata": {},
   "outputs": [
    {
     "data": {
      "text/plain": [
       "AnnData object with n_obs × n_vars = 5443 × 1538\n",
       "    obs: 'technology', 'clusters', 'random_split', 'half_split', 'slide', 'msi_concat_clusters'\n",
       "    var: 'highly_variable', 'means', 'dispersions', 'dispersions_norm', 'highly_variable_nbatches', 'highly_variable_intersection', 'spatialy_highly_variable', 'msi_highly_variable'\n",
       "    uns: 'hvg', 'msi_concat_clusters', 'neighbors', 'pca', 'slide_colors', 'umap'\n",
       "    obsm: 'X_pca', 'X_umap', 'spatial', 'spatial_warp'\n",
       "    varm: 'PCs'\n",
       "    layers: 'counts'\n",
       "    obsp: 'connectivities', 'distances'"
      ]
     },
     "execution_count": 6,
     "metadata": {},
     "output_type": "execute_result"
    }
   ],
   "source": [
    "adata_msi_full"
   ]
  },
  {
   "cell_type": "code",
   "execution_count": 7,
   "metadata": {},
   "outputs": [],
   "source": [
    "adata_msi_full.var_names_make_unique()"
   ]
  },
  {
   "cell_type": "markdown",
   "metadata": {},
   "source": [
    "Here you can subset metabolites for noise  \n",
    "e.g.:  \n",
    "Remove m/z below FMP10, because most likely this is noise:  \n",
    "```python\n",
    "adata_msi_full.var_names  \n",
    "adata_msi = adata_msi_full[:, adata_msi_full.var_names.astype(float) > 288.15].copy()"
   ]
  },
  {
   "cell_type": "code",
   "execution_count": 8,
   "metadata": {},
   "outputs": [
    {
     "data": {
      "text/plain": [
       "Index(['156.26059', '156.26195', '156.48344', '156.4838', '156.485',\n",
       "       '157.54681', '158.41217', '160.02547', '170.45622', '170.45738',\n",
       "       ...\n",
       "       '1044.29885', '1044.3523', '1046.31366', '1046.32671', '1046.33977',\n",
       "       '1046.36442', '1048.32025', '1048.3319', '1048.34354', '1048.38431'],\n",
       "      dtype='object', length=1538)"
      ]
     },
     "execution_count": 8,
     "metadata": {},
     "output_type": "execute_result"
    }
   ],
   "source": [
    "adata_msi_full.var_names  "
   ]
  },
  {
   "cell_type": "code",
   "execution_count": 9,
   "metadata": {},
   "outputs": [
    {
     "name": "stderr",
     "output_type": "stream",
     "text": [
      "/ictstr01/home/icb/eirini.giannakoulia/tools/apps/mamba/envs/mini/lib/python3.12/site-packages/anndata/_core/anndata.py:1756: UserWarning: Observation names are not unique. To make them unique, call `.obs_names_make_unique`.\n",
      "  utils.warn_names_duplicates(\"obs\")\n"
     ]
    }
   ],
   "source": [
    "adata_msi = adata_msi_full[:, adata_msi_full.var_names.astype(float) > 288.15].copy()"
   ]
  },
  {
   "cell_type": "markdown",
   "metadata": {},
   "source": [
    "Quality control"
   ]
  },
  {
   "cell_type": "code",
   "execution_count": 10,
   "metadata": {},
   "outputs": [],
   "source": [
    "sc.pp.calculate_qc_metrics(adata_msi, inplace=True)"
   ]
  },
  {
   "cell_type": "code",
   "execution_count": 11,
   "metadata": {},
   "outputs": [
    {
     "data": {
      "text/plain": [
       "<Axes: xlabel='total_counts', ylabel='Count'>"
      ]
     },
     "execution_count": 11,
     "metadata": {},
     "output_type": "execute_result"
    },
    {
     "data": {
      "image/png": "[encoded data removed]",
      "text/plain": [
       "<Figure size 640x480 with 1 Axes>"
      ]
     },
     "metadata": {},
     "output_type": "display_data"
    }
   ],
   "source": [
    "sns.histplot(adata_msi.obs.total_counts) #This sums all the metabolites m/z ratios for each cell"
   ]
  },
  {
   "cell_type": "code",
   "execution_count": 12,
   "metadata": {},
   "outputs": [
    {
     "data": {
      "text/plain": [
       "<Axes: xlabel='n_cells_by_counts', ylabel='Count'>"
      ]
     },
     "execution_count": 12,
     "metadata": {},
     "output_type": "execute_result"
    },
    {
     "data": {
      "image/png": "[encoded data removed]",
      "text/plain": [
       "<Figure size 640x480 with 1 Axes>"
      ]
     },
     "metadata": {},
     "output_type": "display_data"
    }
   ],
   "source": [
    "sns.histplot(adata_msi.var.n_cells_by_counts) #This sums all the cells for each metabolite m/z ratio\n",
    "# we notice that o"
   ]
  },
  {
   "cell_type": "code",
   "execution_count": 13,
   "metadata": {},
   "outputs": [
    {
     "data": {
      "text/plain": [
       "count    1361.000000\n",
       "mean     1519.506980\n",
       "std      1639.893486\n",
       "min       367.000000\n",
       "25%       510.000000\n",
       "50%       632.000000\n",
       "75%      1718.000000\n",
       "max      5443.000000\n",
       "Name: n_cells_by_counts, dtype: float64"
      ]
     },
     "execution_count": 13,
     "metadata": {},
     "output_type": "execute_result"
    }
   ],
   "source": [
    "adata_msi.var.n_cells_by_counts.describe()"
   ]
  },
  {
   "cell_type": "markdown",
   "metadata": {},
   "source": [
    "### Let's identify most spatialy variable metabolites"
   ]
  },
  {
   "cell_type": "code",
   "execution_count": 14,
   "metadata": {},
   "outputs": [
    {
     "data": {
      "text/plain": [
       "AnnData object with n_obs × n_vars = 5443 × 1361\n",
       "    obs: 'technology', 'clusters', 'random_split', 'half_split', 'slide', 'msi_concat_clusters', 'n_genes_by_counts', 'log1p_n_genes_by_counts', 'total_counts', 'log1p_total_counts', 'pct_counts_in_top_50_genes', 'pct_counts_in_top_100_genes', 'pct_counts_in_top_200_genes', 'pct_counts_in_top_500_genes'\n",
       "    var: 'highly_variable', 'means', 'dispersions', 'dispersions_norm', 'highly_variable_nbatches', 'highly_variable_intersection', 'spatialy_highly_variable', 'msi_highly_variable', 'n_cells_by_counts', 'mean_counts', 'log1p_mean_counts', 'pct_dropout_by_counts', 'total_counts', 'log1p_total_counts'\n",
       "    uns: 'hvg', 'msi_concat_clusters', 'neighbors', 'pca', 'slide_colors', 'umap'\n",
       "    obsm: 'X_pca', 'X_umap', 'spatial', 'spatial_warp'\n",
       "    varm: 'PCs'\n",
       "    layers: 'counts'\n",
       "    obsp: 'connectivities', 'distances'"
      ]
     },
     "execution_count": 14,
     "metadata": {},
     "output_type": "execute_result"
    }
   ],
   "source": [
    "adata_msi"
   ]
  },
  {
   "cell_type": "markdown",
   "metadata": {},
   "source": [
    "MoranI already present, but just for completeness let's go for the procedure from beginning\n",
    "\n"
   ]
  },
  {
   "cell_type": "code",
   "execution_count": 15,
   "metadata": {},
   "outputs": [],
   "source": [
    "# Identify top 5 most spatially variable metabolomes using Moran's I\n",
    "sq.gr.spatial_neighbors(adata_msi, spatial_key='spatial_warp')\n",
    "sq.gr.spatial_autocorr(adata_msi)\n"
   ]
  },
  {
   "cell_type": "markdown",
   "metadata": {},
   "source": [
    "Do a sorting based first on index, then on Benjamini Hochberg FDR correction pvalue and select the top 30"
   ]
  },
  {
   "cell_type": "code",
   "execution_count": 16,
   "metadata": {},
   "outputs": [
    {
     "data": {
      "text/html": [
       "<div>\n",
       "<style scoped>\n",
       "    .dataframe tbody tr th:only-of-type {\n",
       "        vertical-align: middle;\n",
       "    }\n",
       "\n",
       "    .dataframe tbody tr th {\n",
       "        vertical-align: top;\n",
       "    }\n",
       "\n",
       "    .dataframe thead th {\n",
       "        text-align: right;\n",
       "    }\n",
       "</style>\n",
       "<table border=\"1\" class=\"dataframe\">\n",
       "  <thead>\n",
       "    <tr style=\"text-align: right;\">\n",
       "      <th></th>\n",
       "      <th>I</th>\n",
       "      <th>pval_norm</th>\n",
       "      <th>var_norm</th>\n",
       "      <th>pval_norm_fdr_bh</th>\n",
       "    </tr>\n",
       "  </thead>\n",
       "  <tbody>\n",
       "    <tr>\n",
       "      <th>427.13738</th>\n",
       "      <td>0.488514</td>\n",
       "      <td>0.000000</td>\n",
       "      <td>0.000053</td>\n",
       "      <td>0.000000</td>\n",
       "    </tr>\n",
       "    <tr>\n",
       "      <th>426.13386</th>\n",
       "      <td>0.487936</td>\n",
       "      <td>0.000000</td>\n",
       "      <td>0.000053</td>\n",
       "      <td>0.000000</td>\n",
       "    </tr>\n",
       "    <tr>\n",
       "      <th>426.1394</th>\n",
       "      <td>0.474630</td>\n",
       "      <td>0.000000</td>\n",
       "      <td>0.000053</td>\n",
       "      <td>0.000000</td>\n",
       "    </tr>\n",
       "    <tr>\n",
       "      <th>427.14125</th>\n",
       "      <td>0.467735</td>\n",
       "      <td>0.000000</td>\n",
       "      <td>0.000053</td>\n",
       "      <td>0.000000</td>\n",
       "    </tr>\n",
       "    <tr>\n",
       "      <th>428.14054</th>\n",
       "      <td>0.466312</td>\n",
       "      <td>0.000000</td>\n",
       "      <td>0.000053</td>\n",
       "      <td>0.000000</td>\n",
       "    </tr>\n",
       "    <tr>\n",
       "      <th>...</th>\n",
       "      <td>...</td>\n",
       "      <td>...</td>\n",
       "      <td>...</td>\n",
       "      <td>...</td>\n",
       "    </tr>\n",
       "    <tr>\n",
       "      <th>821.33307</th>\n",
       "      <td>-0.013087</td>\n",
       "      <td>0.037941</td>\n",
       "      <td>0.000053</td>\n",
       "      <td>0.122560</td>\n",
       "    </tr>\n",
       "    <tr>\n",
       "      <th>1046.32671</th>\n",
       "      <td>-0.013630</td>\n",
       "      <td>0.032172</td>\n",
       "      <td>0.000053</td>\n",
       "      <td>0.108194</td>\n",
       "    </tr>\n",
       "    <tr>\n",
       "      <th>1046.33977</th>\n",
       "      <td>-0.014331</td>\n",
       "      <td>0.025814</td>\n",
       "      <td>0.000053</td>\n",
       "      <td>0.089892</td>\n",
       "    </tr>\n",
       "    <tr>\n",
       "      <th>793.99352</th>\n",
       "      <td>-0.014405</td>\n",
       "      <td>0.025207</td>\n",
       "      <td>0.000053</td>\n",
       "      <td>0.088406</td>\n",
       "    </tr>\n",
       "    <tr>\n",
       "      <th>774.2903</th>\n",
       "      <td>-0.019391</td>\n",
       "      <td>0.004116</td>\n",
       "      <td>0.000053</td>\n",
       "      <td>0.018371</td>\n",
       "    </tr>\n",
       "  </tbody>\n",
       "</table>\n",
       "<p>491 rows × 4 columns</p>\n",
       "</div>"
      ],
      "text/plain": [
       "                   I  pval_norm  var_norm  pval_norm_fdr_bh\n",
       "427.13738   0.488514   0.000000  0.000053          0.000000\n",
       "426.13386   0.487936   0.000000  0.000053          0.000000\n",
       "426.1394    0.474630   0.000000  0.000053          0.000000\n",
       "427.14125   0.467735   0.000000  0.000053          0.000000\n",
       "428.14054   0.466312   0.000000  0.000053          0.000000\n",
       "...              ...        ...       ...               ...\n",
       "821.33307  -0.013087   0.037941  0.000053          0.122560\n",
       "1046.32671 -0.013630   0.032172  0.000053          0.108194\n",
       "1046.33977 -0.014331   0.025814  0.000053          0.089892\n",
       "793.99352  -0.014405   0.025207  0.000053          0.088406\n",
       "774.2903   -0.019391   0.004116  0.000053          0.018371\n",
       "\n",
       "[491 rows x 4 columns]"
      ]
     },
     "execution_count": 16,
     "metadata": {},
     "output_type": "execute_result"
    }
   ],
   "source": [
    "adata_msi.uns[\"moranI\"]"
   ]
  },
  {
   "cell_type": "code",
   "execution_count": 17,
   "metadata": {},
   "outputs": [],
   "source": [
    "top_30_spat = adata_msi.uns[\"moranI\"].loc[adata_msi.uns[\"moranI\"].pval_norm_fdr_bh < 0.05].sort_values(by=[\"I\", \"pval_norm_fdr_bh\"], ascending=[False, True]).index[:30]\n"
   ]
  },
  {
   "cell_type": "markdown",
   "metadata": {},
   "source": [
    "Mini correction for known matrix peaks, select matrix and mode\n"
   ]
  },
  {
   "cell_type": "code",
   "execution_count": 18,
   "metadata": {},
   "outputs": [
    {
     "data": {
      "text/plain": [
       "array([ 289.11568,  289.11778,  289.11933, ..., 1048.3319 , 1048.34354,\n",
       "       1048.38431])"
      ]
     },
     "execution_count": 18,
     "metadata": {},
     "output_type": "execute_result"
    }
   ],
   "source": [
    "mz_values = adata_msi.var_names.astype(float).to_numpy()\n",
    "mz_values"
   ]
  },
  {
   "cell_type": "code",
   "execution_count": 19,
   "metadata": {},
   "outputs": [],
   "source": [
    "dhb_peaks_positive = np.array([137.0238, 155.0341, 177.0173, 193.0351, 273.0454])\n",
    "found_peaks = set(mz_values[np.abs(mz_values[:, None] - dhb_peaks_positive[None, :]).min(axis=1) <= 0.1])\n",
    "found_peaks_str = set(map(str, found_peaks))\n",
    "\n",
    "# dhb_peaks_negative = np.array([137.0238, 155.0341, 177.0173, 193.0351, 273.0454])\n",
    "# found_peaks = set(mz_values[np.abs(mz_values[:, None] - dhb_peaks_negative[None, :]).min(axis=1) <= 0.1])\n",
    "# found_peaks_str = set(map(str, found_peaks))\n",
    "\n",
    "\n",
    "# fmp10_peaks_positive = np.array([137.0238, 155.0341, 177.0173, 193.0351, 273.0454])\n",
    "# found_peaks = set(mz_values[np.abs(mz_values[:, None] - fmp10_peaks_positive[None, :]).min(axis=1) <= 0.1])\n",
    "# found_peaks_str = set(map(str, found_peaks))\n",
    "\n",
    "\n",
    "# fmp10_peaks_negative = np.array([137.0238, 155.0341, 177.0173, 193.0351, 273.0454])\n",
    "# found_peaks = set(mz_values[np.abs(mz_values[:, None] - fmp10_peaks_negative[None, :]).min(axis=1) <= 0.1])\n",
    "# found_peaks_str = set(map(str, found_peaks))\n"
   ]
  },
  {
   "cell_type": "code",
   "execution_count": 20,
   "metadata": {},
   "outputs": [
    {
     "data": {
      "text/plain": [
       "set()"
      ]
     },
     "execution_count": 20,
     "metadata": {},
     "output_type": "execute_result"
    }
   ],
   "source": [
    "found_peaks"
   ]
  },
  {
   "cell_type": "code",
   "execution_count": 21,
   "metadata": {},
   "outputs": [
    {
     "name": "stdout",
     "output_type": "stream",
     "text": [
      "['427.13738', '426.13386', '426.1394', '427.14125', '428.14054', '426.12809', '390.16864', '569.20536', '428.14952', '674.28833', '435.20692', '431.08294', '427.13472', '703.17781', '432.08618', '674.28592', '432.08346', '622.28469', '555.20345', '433.07846', '427.13255', '539.19172', '433.08094', '675.29202', '428.13762', '430.16497', '573.21671', '558.18881', '574.22262', '690.30231'] 30\n"
     ]
    }
   ],
   "source": [
    "top_30_spat_filtered = [mz for mz in top_30_spat if mz not in found_peaks_str]\n",
    "print(top_30_spat_filtered, len(top_30_spat_filtered))"
   ]
  },
  {
   "cell_type": "code",
   "execution_count": 22,
   "metadata": {},
   "outputs": [],
   "source": [
    "# ['203.05299000000002',\n",
    "#  '162.11293999999998',\n",
    "#  '214.01164',\n",
    "#  '280.092375',\n",
    "#  '845.51016',\n",
    "#  '251.9674',\n",
    "#  '353.023935',\n",
    "#  '251.96654999999998',\n",
    "#  '617.9799350000001',\n",
    "#  '297.070615']"
   ]
  },
  {
   "cell_type": "code",
   "execution_count": 23,
   "metadata": {},
   "outputs": [
    {
     "name": "stderr",
     "output_type": "stream",
     "text": [
      "/ictstr01/home/icb/eirini.giannakoulia/tools/apps/mamba/envs/mini/lib/python3.12/site-packages/anndata/_core/anndata.py:1756: UserWarning: Observation names are not unique. To make them unique, call `.obs_names_make_unique`.\n",
      "  utils.warn_names_duplicates(\"obs\")\n"
     ]
    }
   ],
   "source": [
    "top_5_spat_metabolites = top_30_spat_filtered[:5]\n",
    "top_10_spat_metabolites = top_30_spat_filtered[:10]\n",
    "top_20_spat_metabolites = top_30_spat_filtered[:20]\n",
    "adata_msi_top5_spat = adata_msi[:, adata_msi.var_names.isin(top_5_spat_metabolites)].copy()\n",
    "adata_msi_top10_spat = adata_msi[:, adata_msi.var_names.isin(top_10_spat_metabolites)].copy()\n",
    "adata_msi_top20_spat = adata_msi[:, adata_msi.var_names.isin(top_20_spat_metabolites)].copy()\n",
    "\n"
   ]
  },
  {
   "cell_type": "code",
   "execution_count": 24,
   "metadata": {},
   "outputs": [
    {
     "data": {
      "text/plain": [
       "'MSI_concat_neurotransmitters'"
      ]
     },
     "execution_count": 24,
     "metadata": {},
     "output_type": "execute_result"
    }
   ],
   "source": [
    "task_name"
   ]
  },
  {
   "cell_type": "code",
   "execution_count": 25,
   "metadata": {},
   "outputs": [],
   "source": [
    "adata_msi_top5_spat.write(os.path.join(store_dir, f\"{task_name}_top5spatvar.h5ad\"))\n",
    "adata_msi_top10_spat.write(os.path.join(store_dir, f\"{task_name}_top10spatvar.h5ad\"))\n",
    "adata_msi_top20_spat.write(os.path.join(store_dir, f\"{task_name}_top20spatvar.h5ad\"))"
   ]
  },
  {
   "cell_type": "code",
   "execution_count": 26,
   "metadata": {},
   "outputs": [
    {
     "data": {
      "text/plain": [
       "AnnData object with n_obs × n_vars = 5443 × 5\n",
       "    obs: 'technology', 'clusters', 'random_split', 'half_split', 'slide', 'msi_concat_clusters', 'n_genes_by_counts', 'log1p_n_genes_by_counts', 'total_counts', 'log1p_total_counts', 'pct_counts_in_top_50_genes', 'pct_counts_in_top_100_genes', 'pct_counts_in_top_200_genes', 'pct_counts_in_top_500_genes'\n",
       "    var: 'highly_variable', 'means', 'dispersions', 'dispersions_norm', 'highly_variable_nbatches', 'highly_variable_intersection', 'spatialy_highly_variable', 'msi_highly_variable', 'n_cells_by_counts', 'mean_counts', 'log1p_mean_counts', 'pct_dropout_by_counts', 'total_counts', 'log1p_total_counts'\n",
       "    uns: 'hvg', 'msi_concat_clusters', 'neighbors', 'pca', 'slide_colors', 'umap', 'spatial_neighbors', 'moranI'\n",
       "    obsm: 'X_pca', 'X_umap', 'spatial', 'spatial_warp'\n",
       "    varm: 'PCs'\n",
       "    layers: 'counts'\n",
       "    obsp: 'connectivities', 'distances', 'spatial_connectivities', 'spatial_distances'"
      ]
     },
     "execution_count": 26,
     "metadata": {},
     "output_type": "execute_result"
    }
   ],
   "source": [
    "adata_msi_top5_spat"
   ]
  },
  {
   "cell_type": "markdown",
   "metadata": {},
   "source": [
    "To use in big pipeline split in train and test"
   ]
  },
  {
   "cell_type": "code",
   "execution_count": 27,
   "metadata": {},
   "outputs": [],
   "source": [
    "# change_according to first part\n",
    "ds_task_name = \"neuro\""
   ]
  },
  {
   "cell_type": "code",
   "execution_count": 28,
   "metadata": {},
   "outputs": [],
   "source": [
    "# adata_msi_top5_spat_train = adata_msi_top5_spat[adata_msi_top5_spat.obs[\"half_split\" ]== \"train\"].copy()\n",
    "# adata_msi_top5_spat_test = adata_msi_top5_spat[adata_msi_top5_spat.obs[\"half_split\" ]== \"test\"].copy()\n",
    "\n",
    "# for feat_sel in [\"hvg\", \"hvg_svd\", \"hvg_svd_graph\", \"svd\", \"svd_graph\"]:\n",
    "#     adata_msi_top5_spat_train.write(os.path.join(\"/lustre/groups/ml01/workspace/eirini.giannakoulia/lipids_top5_spatvar\",feat_sel,\"msi_dataset_train.h5ad\"))\n",
    "#     adata_msi_top5_spat_test.write(os.path.join(\"/lustre/groups/ml01/workspace/eirini.giannakoulia/lipids_top5_spatvar\",feat_sel,\"msi_dataset_test.h5ad\"))\n"
   ]
  },
  {
   "cell_type": "code",
   "execution_count": 31,
   "metadata": {},
   "outputs": [
    {
     "name": "stdout",
     "output_type": "stream",
     "text": [
      "/lustre/groups/ml01/workspace/eirini.giannakoulia/neuro_top10_spatvar/hvg/msi_dataset_train.h5ad\n",
      "/lustre/groups/ml01/workspace/eirini.giannakoulia/neuro_top10_spatvar/hvg_svd/msi_dataset_train.h5ad\n",
      "/lustre/groups/ml01/workspace/eirini.giannakoulia/neuro_top10_spatvar/hvg_svd_graph/msi_dataset_train.h5ad\n",
      "/lustre/groups/ml01/workspace/eirini.giannakoulia/neuro_top10_spatvar/svd/msi_dataset_train.h5ad\n",
      "/lustre/groups/ml01/workspace/eirini.giannakoulia/neuro_top10_spatvar/svd_graph/msi_dataset_train.h5ad\n"
     ]
    }
   ],
   "source": [
    "adata_msi_top10_spat_train = adata_msi_top10_spat[adata_msi_top10_spat.obs[\"half_split\"]==\"train\"].copy()\n",
    "adata_msi_top10_spat_test = adata_msi_top10_spat[adata_msi_top10_spat.obs[\"half_split\"]==\"test\"].copy()\n",
    "\n",
    "for feat_sel in [\"hvg\", \"hvg_svd\", \"hvg_svd_graph\", \"svd\", \"svd_graph\"]:\n",
    "    adata_msi_top10_spat_train.write(os.path.join(f\"/lustre/groups/ml01/workspace/eirini.giannakoulia/{ds_task_name}_top10_spatvar\",feat_sel,\"msi_dataset_train.h5ad\"))\n",
    "    adata_msi_top10_spat_test.write(os.path.join(f\"/lustre/groups/ml01/workspace/eirini.giannakoulia/{ds_task_name}_top10_spatvar\",feat_sel,\"msi_dataset_test.h5ad\"))\n",
    "    print(os.path.join(f\"/lustre/groups/ml01/workspace/eirini.giannakoulia/{ds_task_name}_top10_spatvar\",feat_sel,\"msi_dataset_train.h5ad\"))\n"
   ]
  },
  {
   "cell_type": "code",
   "execution_count": 32,
   "metadata": {},
   "outputs": [
    {
     "data": {
      "text/plain": [
       "AnnData object with n_obs × n_vars = 5443 × 20\n",
       "    obs: 'technology', 'clusters', 'random_split', 'half_split', 'slide', 'msi_concat_clusters', 'n_genes_by_counts', 'log1p_n_genes_by_counts', 'total_counts', 'log1p_total_counts', 'pct_counts_in_top_50_genes', 'pct_counts_in_top_100_genes', 'pct_counts_in_top_200_genes', 'pct_counts_in_top_500_genes'\n",
       "    var: 'highly_variable', 'means', 'dispersions', 'dispersions_norm', 'highly_variable_nbatches', 'highly_variable_intersection', 'spatialy_highly_variable', 'msi_highly_variable', 'n_cells_by_counts', 'mean_counts', 'log1p_mean_counts', 'pct_dropout_by_counts', 'total_counts', 'log1p_total_counts'\n",
       "    uns: 'hvg', 'msi_concat_clusters', 'neighbors', 'pca', 'slide_colors', 'umap', 'spatial_neighbors', 'moranI'\n",
       "    obsm: 'X_pca', 'X_umap', 'spatial', 'spatial_warp'\n",
       "    varm: 'PCs'\n",
       "    layers: 'counts'\n",
       "    obsp: 'connectivities', 'distances', 'spatial_connectivities', 'spatial_distances'"
      ]
     },
     "execution_count": 32,
     "metadata": {},
     "output_type": "execute_result"
    }
   ],
   "source": [
    "adata_msi_top20_spat"
   ]
  },
  {
   "cell_type": "code",
   "execution_count": 33,
   "metadata": {},
   "outputs": [],
   "source": [
    "adata_msi_top20_spat_train = adata_msi_top20_spat[adata_msi_top20_spat.obs[\"half_split\"]==\"train\"].copy()\n",
    "adata_msi_top20_spat_test = adata_msi_top20_spat[adata_msi_top20_spat.obs[\"half_split\"]==\"test\"].copy()\n",
    "\n",
    "for feat_sel in [\"hvg\", \"hvg_svd\", \"hvg_svd_graph\", \"svd\", \"svd_graph\"]:\n",
    "    adata_msi_top20_spat_train.write(os.path.join(f\"/lustre/groups/ml01/workspace/eirini.giannakoulia/{ds_task_name}_top20_spatvar\",feat_sel,\"msi_dataset_train.h5ad\"))\n",
    "    adata_msi_top20_spat_test.write(os.path.join(f\"/lustre/groups/ml01/workspace/eirini.giannakoulia/{ds_task_name}_top20_spatvar\",feat_sel,\"msi_dataset_test.h5ad\"))\n"
   ]
  }
 ],
 "metadata": {
  "kernelspec": {
   "display_name": "Python (minimal)",
   "language": "python",
   "name": "mini"
  },
  "language_info": {
   "codemirror_mode": {
    "name": "ipython",
    "version": 3
   },
   "file_extension": ".py",
   "mimetype": "text/x-python",
   "name": "python",
   "nbconvert_exporter": "python",
   "pygments_lexer": "ipython3",
   "version": "3.12.7"
  }
 },
 "nbformat": 4,
 "nbformat_minor": 2
}
