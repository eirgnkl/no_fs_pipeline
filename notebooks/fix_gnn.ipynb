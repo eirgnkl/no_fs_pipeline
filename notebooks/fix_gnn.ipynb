{
 "cells": [
  {
   "cell_type": "markdown",
   "metadata": {},
   "source": [
    "Try out the gnn model\n"
   ]
  },
  {
   "cell_type": "code",
   "execution_count": 1,
   "metadata": {},
   "outputs": [
    {
     "ename": "ModuleNotFoundError",
     "evalue": "No module named 'torch_geometric'",
     "output_type": "error",
     "traceback": [
      "\u001b[31m---------------------------------------------------------------------------\u001b[39m",
      "\u001b[31mModuleNotFoundError\u001b[39m                       Traceback (most recent call last)",
      "\u001b[36mCell\u001b[39m\u001b[36m \u001b[39m\u001b[32mIn[1]\u001b[39m\u001b[32m, line 3\u001b[39m\n\u001b[32m      1\u001b[39m \u001b[38;5;28;01mimport\u001b[39;00m\u001b[38;5;250m \u001b[39m\u001b[34;01mtorch\u001b[39;00m\n\u001b[32m      2\u001b[39m \u001b[38;5;28;01mimport\u001b[39;00m\u001b[38;5;250m \u001b[39m\u001b[34;01mtorch\u001b[39;00m\u001b[34;01m.\u001b[39;00m\u001b[34;01mnn\u001b[39;00m\u001b[34;01m.\u001b[39;00m\u001b[34;01mfunctional\u001b[39;00m\u001b[38;5;250m \u001b[39m\u001b[38;5;28;01mas\u001b[39;00m\u001b[38;5;250m \u001b[39m\u001b[34;01mF\u001b[39;00m\n\u001b[32m----> \u001b[39m\u001b[32m3\u001b[39m \u001b[38;5;28;01mfrom\u001b[39;00m\u001b[38;5;250m \u001b[39m\u001b[34;01mtorch_geometric\u001b[39;00m\u001b[34;01m.\u001b[39;00m\u001b[34;01mdata\u001b[39;00m\u001b[38;5;250m \u001b[39m\u001b[38;5;28;01mimport\u001b[39;00m Data\n\u001b[32m      4\u001b[39m \u001b[38;5;28;01mfrom\u001b[39;00m\u001b[38;5;250m \u001b[39m\u001b[34;01mtorch_geometric\u001b[39;00m\u001b[34;01m.\u001b[39;00m\u001b[34;01mnn\u001b[39;00m\u001b[38;5;250m \u001b[39m\u001b[38;5;28;01mimport\u001b[39;00m GCNConv\n\u001b[32m      5\u001b[39m \u001b[38;5;28;01mimport\u001b[39;00m\u001b[38;5;250m \u001b[39m\u001b[34;01mnumpy\u001b[39;00m\u001b[38;5;250m \u001b[39m\u001b[38;5;28;01mas\u001b[39;00m\u001b[38;5;250m \u001b[39m\u001b[34;01mnp\u001b[39;00m\n",
      "\u001b[31mModuleNotFoundError\u001b[39m: No module named 'torch_geometric'"
     ]
    }
   ],
   "source": [
    "import torch\n",
    "import torch.nn.functional as F\n",
    "from torch_geometric.data import Data\n",
    "from torch_geometric.nn import GCNConv\n",
    "import numpy as np"
   ]
  },
  {
   "cell_type": "code",
   "execution_count": null,
   "metadata": {},
   "outputs": [],
   "source": [
    "adata_rna = sc.read_h5ad(\"/lustre/groups/ml01/workspace/eirini.giannakoulia/datasets/V11L12-038/V11L12-038_A1/V11L12-038_A1.RNA_MOSCOT_paired_hvg.h5ad\")\n",
    "adata_rna"
   ]
  },
  {
   "cell_type": "code",
   "execution_count": null,
   "metadata": {},
   "outputs": [],
   "source": [
    "adata_msi = sc.read_h5ad(\"/lustre/groups/ml01/workspace/eirini.giannakoulia/datasets/V11L12-038/V11L12-038_A1/V11L12-038_A1.MSI_MOSCOT_paired_hvg.h5ad\")\n",
    "adata_msi"
   ]
  },
  {
   "cell_type": "code",
   "execution_count": null,
   "metadata": {},
   "outputs": [],
   "source": [
    "adata_rna_train = adata_rna[adata_rna.obs[\"split\"] == \"train\"]\n",
    "adata_rna_test = adata_rna[adata_rna.obs[\"split\"] == \"test\"]\n",
    "adata_msi_train = adata_msi[adata_msi.obs[\"split\"] == \"train\"]\n",
    "adata_msi_test = adata_msi[adata_msi.obs[\"split\"] == \"test\"]"
   ]
  },
  {
   "cell_type": "code",
   "execution_count": null,
   "metadata": {},
   "outputs": [],
   "source": [
    "coords_rna_train = adata_rna_train.obsm[\"spatial_warp\"]\n",
    "coords_rna_test = adata_rna_test.obsm[\"spatial_warp\"]"
   ]
  },
  {
   "cell_type": "code",
   "execution_count": null,
   "metadata": {},
   "outputs": [],
   "source": [
    "class MultiLayerGCN(torch.nn.Module):\n",
    "    def __init__(self, input_dim, hidden_dim, output_dim, num_layers=3, dropout=0.5):\n",
    "        super(MultiLayerGCN, self).__init__()\n",
    "        \n",
    "        # Define GCN layers\n",
    "        self.layers = torch.nn.ModuleList()\n",
    "        self.layers.append(GCNConv(input_dim, hidden_dim))  # First layer\n",
    "        \n",
    "        # Add hidden layers\n",
    "        for _ in range(num_layers - 2):\n",
    "            self.layers.append(GCNConv(hidden_dim, hidden_dim))  # Middle layers\n",
    "        \n",
    "        self.output_layer = GCNConv(hidden_dim, output_dim)  # Output layer\n",
    "        \n",
    "        self.dropout = dropout\n",
    "\n",
    "    def forward(self, x, edge_index):\n",
    "        # Pass data through each GCN layer with ReLU activation\n",
    "        for layer in self.layers:\n",
    "            x = layer(x, edge_index)\n",
    "            x = F.relu(x)\n",
    "            x = F.dropout(x, p=self.dropout, training=self.training)\n",
    "        \n",
    "        # Final GCN layer (output layer)\n",
    "        x = self.output_layer(x, edge_index)\n",
    "        \n",
    "        return x  "
   ]
  },
  {
   "cell_type": "code",
   "execution_count": null,
   "metadata": {},
   "outputs": [],
   "source": [
    "# Define graph structure using k-nearest neighbors\n",
    "k = 15  # Number of neighbors for KNN\n",
    "knn = NearestNeighbors(n_neighbors=k).fit(coords_rna_train)\n",
    "distances, indices = knn.kneighbors(coords_rna_train)\n",
    "\n",
    "edges = []\n",
    "for i, neighbors in enumerate(indices):\n",
    "    for neighbor in neighbors:\n",
    "        if i != neighbor:  # Avoid self-loops\n",
    "            edges.append([i, neighbor])\n",
    "\n",
    "edge_index = torch.tensor(edges, dtype=torch.long).t().contiguous()  # Shape [2, num_edges]\n",
    "\n",
    "# Initialize GCN model\n",
    "input_dim = matching_rna_train.shape[1]  # Number of input features\n",
    "hidden_dim = 256  # Hidden layer size\n",
    "output_dim = matching_msi_train.shape[1]  # Number of output features\n",
    "num_layers = 3  # Number of GCN layers\n",
    "dropout = 0.3  # Dropout rate\n",
    "\n",
    "model = MultiLayerGCN(input_dim, hidden_dim, output_dim, num_layers=num_layers, dropout=dropout)\n",
    "\n",
    "# Prepare PyTorch data\n",
    "train_data = Data(x=X_tensor, edge_index=edge_index)\n",
    "\n",
    "# Training setup\n",
    "optimizer = optim.Adam(model.parameters(), lr=0.001)\n",
    "criterion = torch.nn.MSELoss()\n",
    "num_epochs = 2000\n",
    "\n",
    "# Train GCN model\n",
    "model.train()\n",
    "for epoch in range(num_epochs):\n",
    "    optimizer.zero_grad()\n",
    "    out = model(train_data.x, train_data.edge_index)\n",
    "    loss = criterion(out, y_tensor)\n",
    "    loss.backward()\n",
    "    optimizer.step()\n",
    "    if epoch % 1000 == 0:\n",
    "        print(f'Epoch {epoch}, Loss: {loss.item()}')\n",
    "\n",
    "# Convert test data to PyTorch tensors\n",
    "X_tensor_test = torch.tensor(matching_rna_test, dtype=torch.float32)\n",
    "y_tensor_test = torch.tensor(matching_msi_test, dtype=torch.float32)\n",
    "coords_tensor_test = torch.tensor(coords_rna_test, dtype=torch.float32)\n",
    "\n",
    "# Define k-nearest neighbors for test set\n",
    "knn = NearestNeighbors(n_neighbors=5).fit(coords_rna_test)\n",
    "distances, indices = knn.kneighbors(coords_rna_test)\n",
    "\n",
    "test_edges = []\n",
    "for i, neighbors in enumerate(indices):\n",
    "    for neighbor in neighbors:\n",
    "        if i != neighbor:\n",
    "            test_edges.append([i, neighbor])\n",
    "\n",
    "test_edge_index = torch.tensor(test_edges, dtype=torch.long).t().contiguous()\n",
    "\n",
    "test_data = Data(x=X_tensor_test, edge_index=test_edge_index)\n",
    "\n",
    "# Evaluate model\n",
    "model.eval()\n",
    "Y_pred_train = model(train_data.x, train_data.edge_index).detach().numpy()\n",
    "Y_pred_test = model(test_data.x, test_data.edge_index).detach().numpy()\n",
    "\n"
   ]
  }
 ],
 "metadata": {
  "kernelspec": {
   "display_name": "Python (minimal)",
   "language": "python",
   "name": "mini"
  }
 },
 "nbformat": 4,
 "nbformat_minor": 2
}
